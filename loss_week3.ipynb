{
 "cells": [
  {
   "cell_type": "code",
   "execution_count": 2,
   "id": "952dd5d9",
   "metadata": {},
   "outputs": [],
   "source": [
    "import mygrad as mg\n",
    "def loss_function_accuracy(wtrueimg, wtruecap, wconfimg, margin): \n",
    "    \n",
    "    simtrue = mg.einsum(\"ni,ni -> n\", wtruecap, wtrueimg)\n",
    "\n",
    "    simconfuser = mg.einsum(\"ni,ni -> n\", wtruecap, wconfimg)\n",
    "\n",
    "    #returns both loss and accuracy, loss first\n",
    "    \n",
    "    accuracy = np.mean(simtrue.data  > simconfuser.data)  \n",
    "    \n",
    "    return mg.mean(mg.maximum(0, margin - (simtrue - simconfuser)))\n",
    "    \n",
    "    "
   ]
  },
  {
   "cell_type": "code",
   "execution_count": null,
   "id": "3ff816e8",
   "metadata": {},
   "outputs": [],
   "source": []
  }
 ],
 "metadata": {
  "kernelspec": {
   "display_name": "Python 3 (ipykernel)",
   "language": "python",
   "name": "python3"
  },
  "language_info": {
   "codemirror_mode": {
    "name": "ipython",
    "version": 3
   },
   "file_extension": ".py",
   "mimetype": "text/x-python",
   "name": "python",
   "nbconvert_exporter": "python",
   "pygments_lexer": "ipython3",
   "version": "3.8.13"
  }
 },
 "nbformat": 4,
 "nbformat_minor": 5
}
