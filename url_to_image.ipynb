{
 "cells": [
  {
   "cell_type": "code",
   "execution_count": null,
   "id": "22026cec",
   "metadata": {},
   "outputs": [],
   "source": [
    "import Database\n",
    "import Model\n",
    "database = Database.load_database(\"database.pkl\")\n",
    "model = Model.load_model(\"model.pkl\")\n"
   ]
  },
  {
   "cell_type": "code",
   "execution_count": null,
   "id": "30241dc3",
   "metadata": {},
   "outputs": [],
   "source": [
    "database.generate_image_embeddings(model)\n",
    "# print(database.image_embeddings)\n",
    "Database.save_database(database, \"database2.pkl\")"
   ]
  },
  {
   "cell_type": "code",
   "execution_count": 2,
   "id": "4930aa73",
   "metadata": {},
   "outputs": [
    {
     "name": "stdout",
     "output_type": "stream",
     "text": [
      "Loading Database\n",
      "Done!\n",
      "A man and a woman are sitting on a couch.\n",
      "648448\n"
     ]
    }
   ],
   "source": [
    "import Database\n",
    "import Model"
   ]
  },
  {
   "cell_type": "code",
   "execution_count": 4,
   "id": "c434f0f3",
   "metadata": {},
   "outputs": [
    {
     "name": "stdout",
     "output_type": "stream",
     "text": [
      "Loading Database\n",
      "Done!\n"
     ]
    }
   ],
   "source": [
    "database = Database.load_database(\"database2.pkl\")"
   ]
  },
  {
   "cell_type": "code",
   "execution_count": 27,
   "id": "76b94d19",
   "metadata": {},
   "outputs": [
    {
     "name": "stdout",
     "output_type": "stream",
     "text": [
      "An old man sticking his finger inside of his ear.\n"
     ]
    },
    {
     "data": {
      "text/html": [
       "<img src=\"http://images.cocodataset.org/train2014/COCO_train2014_000000182118.jpg\"/>"
      ],
      "text/plain": [
       "<IPython.core.display.Image object>"
      ]
     },
     "metadata": {},
     "output_type": "display_data"
    },
    {
     "data": {
      "text/html": [
       "<img src=\"http://images.cocodataset.org/train2014/COCO_train2014_000000164659.jpg\"/>"
      ],
      "text/plain": [
       "<IPython.core.display.Image object>"
      ]
     },
     "metadata": {},
     "output_type": "display_data"
    },
    {
     "data": {
      "text/html": [
       "<img src=\"http://images.cocodataset.org/train2014/COCO_train2014_000000362184.jpg\"/>"
      ],
      "text/plain": [
       "<IPython.core.display.Image object>"
      ]
     },
     "metadata": {},
     "output_type": "display_data"
    },
    {
     "data": {
      "text/html": [
       "<img src=\"http://images.cocodataset.org/train2014/COCO_train2014_000000532718.jpg\"/>"
      ],
      "text/plain": [
       "<IPython.core.display.Image object>"
      ]
     },
     "metadata": {},
     "output_type": "display_data"
    },
    {
     "data": {
      "text/html": [
       "<img src=\"http://images.cocodataset.org/train2014/COCO_train2014_000000092879.jpg\"/>"
      ],
      "text/plain": [
       "<IPython.core.display.Image object>"
      ]
     },
     "metadata": {},
     "output_type": "display_data"
    },
    {
     "data": {
      "text/html": [
       "<img src=\"http://images.cocodataset.org/train2014/COCO_train2014_000000539571.jpg\"/>"
      ],
      "text/plain": [
       "<IPython.core.display.Image object>"
      ]
     },
     "metadata": {},
     "output_type": "display_data"
    },
    {
     "data": {
      "text/html": [
       "<img src=\"http://images.cocodataset.org/train2014/COCO_train2014_000000155666.jpg\"/>"
      ],
      "text/plain": [
       "<IPython.core.display.Image object>"
      ]
     },
     "metadata": {},
     "output_type": "display_data"
    },
    {
     "data": {
      "text/html": [
       "<img src=\"http://images.cocodataset.org/train2014/COCO_train2014_000000185587.jpg\"/>"
      ],
      "text/plain": [
       "<IPython.core.display.Image object>"
      ]
     },
     "metadata": {},
     "output_type": "display_data"
    },
    {
     "data": {
      "text/html": [
       "<img src=\"http://images.cocodataset.org/train2014/COCO_train2014_000000373348.jpg\"/>"
      ],
      "text/plain": [
       "<IPython.core.display.Image object>"
      ]
     },
     "metadata": {},
     "output_type": "display_data"
    },
    {
     "data": {
      "text/html": [
       "<img src=\"http://images.cocodataset.org/train2014/COCO_train2014_000000097248.jpg\"/>"
      ],
      "text/plain": [
       "<IPython.core.display.Image object>"
      ]
     },
     "metadata": {},
     "output_type": "display_data"
    }
   ],
   "source": [
    "random = database.get_random_caption_embedding()\n",
    "print(random[1])\n",
    "# print(random[0])\n",
    "Database.url_to_image(database.query_database(database.caption_embeddings[random[0]], 10))\n",
    "# Database.url_to_image(database.query_database(database.generate_caption_embedding(\"A frog sits on a rock\"), 20))"
   ]
  }
 ],
 "metadata": {
  "kernelspec": {
   "display_name": "Python 3.8.13 ('week3')",
   "language": "python",
   "name": "python3"
  },
  "language_info": {
   "codemirror_mode": {
    "name": "ipython",
    "version": 3
   },
   "file_extension": ".py",
   "mimetype": "text/x-python",
   "name": "python",
   "nbconvert_exporter": "python",
   "pygments_lexer": "ipython3",
   "version": "3.8.13"
  },
  "vscode": {
   "interpreter": {
    "hash": "02be0ed72ae9e908826c50ed9d9c37c56a4ab03df56e2a76c478984088b85225"
   }
  }
 },
 "nbformat": 4,
 "nbformat_minor": 5
}
