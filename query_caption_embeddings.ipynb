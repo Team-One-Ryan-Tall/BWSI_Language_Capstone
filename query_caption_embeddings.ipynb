{
 "cells": [
  {
   "cell_type": "code",
   "execution_count": 38,
   "id": "a50f0a7d",
   "metadata": {},
   "outputs": [],
   "source": [
    "def query_database(caption_embedding, k): \n",
    "    caption_embeddings = []\n",
    "    for i in list_of_caption_embeddings: #Will be updated as implemented into the database\n",
    "        caption_embeddings.append(i @ caption_embedding) \n",
    "        embeddings_values = list(zip(caption_embeddings, list(range(len(list_of_caption_embeddings)))))\n",
    "        \n",
    "    caption_embeddings = list(reversed(sorted(caption_embeddings)))\n",
    "    \n",
    "    k_closest_embeddings = caption_embeddings[0:k]\n",
    "    values = []\n",
    "    for i in caption_embeddings:\n",
    "        for j in k_closest_embeddings:\n",
    "            if j == i[0]:\n",
    "                values.append(i[1])\n",
    "                \n",
    "    final_embeddings = []\n",
    "    for x in values:\n",
    "        final_embeddings.append(list_of_caption_embeddings.index(x)) #replace with database of caption embeddings\n",
    "    \n",
    "    return final_embeddings #still need function that takes in caption embeddings and returns images\n",
    "    \n",
    "        \n",
    "        \n",
    "        \n",
    "        \n",
    "        \n",
    "        \n",
    "    \n",
    "    \n",
    "    \n",
    "    "
   ]
  },
  {
   "cell_type": "code",
   "execution_count": 44,
   "id": "f95eaa56",
   "metadata": {},
   "outputs": [
    {
     "data": {
      "text/plain": [
       "[0, 2, 4, 7]"
      ]
     },
     "execution_count": 44,
     "metadata": {},
     "output_type": "execute_result"
    }
   ],
   "source": []
  },
  {
   "cell_type": "code",
   "execution_count": null,
   "id": "10d7c5d5",
   "metadata": {},
   "outputs": [],
   "source": []
  },
  {
   "cell_type": "code",
   "execution_count": null,
   "id": "3d3fb188",
   "metadata": {},
   "outputs": [],
   "source": []
  }
 ],
 "metadata": {
  "kernelspec": {
   "display_name": "Python 3 (ipykernel)",
   "language": "python",
   "name": "python3"
  },
  "language_info": {
   "codemirror_mode": {
    "name": "ipython",
    "version": 3
   },
   "file_extension": ".py",
   "mimetype": "text/x-python",
   "name": "python",
   "nbconvert_exporter": "python",
   "pygments_lexer": "ipython3",
   "version": "3.8.13"
  }
 },
 "nbformat": 4,
 "nbformat_minor": 5
}
