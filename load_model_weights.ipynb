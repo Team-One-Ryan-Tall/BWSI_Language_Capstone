{
 "cells": [
  {
   "cell_type": "code",
   "execution_count": 3,
   "id": "84101515",
   "metadata": {},
   "outputs": [],
   "source": [
    "def save_model_parameters(model, FileName: str): \n",
    "    with open(FileName, mode = \"wb\") as opened_file:\n",
    "        pickle.dump(model.parameters, opened_file)\n",
    "def load_model_parameters(FileName:str):\n",
    "    with open(FileName,\"rb\") as unopened_file:\n",
    "        model_parameters = pickle.load(unopened_file)\n",
    "    return model_parameters\n",
    "    "
   ]
  },
  {
   "cell_type": "code",
   "execution_count": null,
   "id": "e2be0da3",
   "metadata": {},
   "outputs": [],
   "source": []
  }
 ],
 "metadata": {
  "kernelspec": {
   "display_name": "Python 3 (ipykernel)",
   "language": "python",
   "name": "python3"
  },
  "language_info": {
   "codemirror_mode": {
    "name": "ipython",
    "version": 3
   },
   "file_extension": ".py",
   "mimetype": "text/x-python",
   "name": "python",
   "nbconvert_exporter": "python",
   "pygments_lexer": "ipython3",
   "version": "3.8.13"
  }
 },
 "nbformat": 4,
 "nbformat_minor": 5
}
