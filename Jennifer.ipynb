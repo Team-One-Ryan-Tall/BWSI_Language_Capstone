{
 "cells": [
  {
   "cell_type": "code",
   "execution_count": null,
   "id": "62b13f6c",
   "metadata": {},
   "outputs": [],
   "source": [
    "#def create_bag_of_words():\n",
    "    \"\"\"\n",
    "    take in all documents tokenized list and\n",
    "    \"\"\"\n",
    "def InverseFrequency(bag_of_words, documents):\n",
    "    N = len(bag_of_words)\n",
    "    nt = [sum(1 if t in counter else 0 for counter in documents) for t in bag_of_words]\n",
    "    nt = np.array(nt, dtype=float)\n",
    "    return np.log10(N / nt)"
   ]
  }
 ],
 "metadata": {
  "kernelspec": {
   "display_name": "Python 3 (ipykernel)",
   "language": "python",
   "name": "python3"
  },
  "language_info": {
   "codemirror_mode": {
    "name": "ipython",
    "version": 3
   },
   "file_extension": ".py",
   "mimetype": "text/x-python",
   "name": "python",
   "nbconvert_exporter": "python",
   "pygments_lexer": "ipython3",
   "version": "3.8.13"
  }
 },
 "nbformat": 4,
 "nbformat_minor": 5
}
